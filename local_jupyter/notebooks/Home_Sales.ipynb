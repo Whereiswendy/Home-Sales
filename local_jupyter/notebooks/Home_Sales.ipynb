{
 "cells": [
  {
   "cell_type": "code",
   "execution_count": 1,
   "metadata": {
    "colab": {
     "base_uri": "https://localhost:8080/"
    },
    "id": "a_KW73O2e3dw",
    "outputId": "fa5fd2b3-e2de-491b-ee1c-405317ba7ebc"
   },
   "outputs": [],
   "source": [
    "# Import findspark and initialise. \n",
    "import findspark\n",
    "findspark.init()\n",
    "\n",
    "# Extra packages\n",
    "import urllib.request\n",
    "import pandas as pd"
   ]
  },
  {
   "cell_type": "code",
   "execution_count": 2,
   "metadata": {
    "colab": {
     "base_uri": "https://localhost:8080/"
    },
    "id": "wOJqxG_RPSwp",
    "outputId": "7857ef9f-5b04-405d-f5aa-e535dfe7870c"
   },
   "outputs": [
    {
     "data": {
      "text/plain": [
       "('../data/home_sales_revised.csv', <http.client.HTTPMessage at 0x223cdc688e0>)"
      ]
     },
     "execution_count": 2,
     "metadata": {},
     "output_type": "execute_result"
    }
   ],
   "source": [
    "# 1. Read in the AWS S3 bucket into a DataFrame.\n",
    "\n",
    "# Download the file\n",
    "local_file_path = \"../data/home_sales_revised.csv\"\n",
    "url = \"https://2u-data-curriculum-team.s3.amazonaws.com/dataviz-classroom/v1.2/22-big-data/home_sales_revised.csv\"\n",
    "urllib.request.urlretrieve(url, local_file_path)\n",
    "\n",
    "\n",
    "\n"
   ]
  },
  {
   "cell_type": "code",
   "execution_count": 3,
   "metadata": {
    "id": "2XbWNf1Te5fM"
   },
   "outputs": [],
   "source": [
    "# Import packages\n",
    "from pyspark.sql import SparkSession\n",
    "import time\n",
    "\n",
    "# Create a SparkSession\n",
    "spark = SparkSession.builder.appName(\"SparkSQL\").getOrCreate()"
   ]
  },
  {
   "cell_type": "code",
   "execution_count": 4,
   "metadata": {
    "id": "RoljcJ7WPpnm"
   },
   "outputs": [
    {
     "name": "stdout",
     "output_type": "stream",
     "text": [
      "+--------------------+----------+----------+------+--------+---------+-----------+--------+------+----------+----+\n",
      "|                  id|      date|date_built| price|bedrooms|bathrooms|sqft_living|sqft_lot|floors|waterfront|view|\n",
      "+--------------------+----------+----------+------+--------+---------+-----------+--------+------+----------+----+\n",
      "|f8a53099-ba1c-47d...|2022-04-08|      2016|936923|       4|        3|       3167|   11733|     2|         1|  76|\n",
      "|7530a2d8-1ae3-451...|2021-06-13|      2013|379628|       2|        2|       2235|   14384|     1|         0|  23|\n",
      "|43de979c-0bf0-4c9...|2019-04-12|      2014|417866|       2|        2|       2127|   10575|     2|         0|   0|\n",
      "|b672c137-b88c-48b...|2019-10-16|      2016|239895|       2|        2|       1631|   11149|     2|         0|   0|\n",
      "|e0726d4d-d595-407...|2022-01-08|      2017|424418|       3|        2|       2249|   13878|     2|         0|   4|\n",
      "+--------------------+----------+----------+------+--------+---------+-----------+--------+------+----------+----+\n",
      "only showing top 5 rows\n",
      "\n"
     ]
    }
   ],
   "source": [
    "# 2. Create a temporary view of the DataFrame.\n",
    "# Read the CSV file into a DataFrame\n",
    "df = spark.read.csv(local_file_path, header=True, inferSchema=True)\n",
    "\n",
    "# Show the first 5 rows to verify\n",
    "df.show(5)\n",
    "\n",
    "# Create a temporary view of the DataFrame\n",
    "df.createOrReplaceTempView(\"home_sales\")\n",
    "\n"
   ]
  },
  {
   "cell_type": "code",
   "execution_count": 5,
   "metadata": {
    "colab": {
     "base_uri": "https://localhost:8080/"
    },
    "id": "L6fkwOeOmqvq",
    "outputId": "bdded620-79c4-488d-c7a5-91c6799c419e"
   },
   "outputs": [
    {
     "name": "stdout",
     "output_type": "stream",
     "text": [
      "Average price for four-bedroom houses sold per year:\n",
      "\n",
      "+---------+----------+\n",
      "|year_sold| avg_price|\n",
      "+---------+----------+\n",
      "|     2022|296,363.88|\n",
      "|     2019|300,263.70|\n",
      "|     2020|298,353.78|\n",
      "|     2021|301,819.44|\n",
      "+---------+----------+\n",
      "\n"
     ]
    }
   ],
   "source": [
    "# 3. What is the average price for a four bedroom house sold per year, rounded to two decimal places?\n",
    "from pyspark.sql.functions import year, avg, round, format_number\n",
    "\n",
    "# 1. Filter the DataFrame for four-bedroom houses\n",
    "four_bedroom_houses = df.filter(df.bedrooms == 4)\n",
    "\n",
    "# 2. Extract the year from the date column\n",
    "four_bedroom_houses = four_bedroom_houses.withColumn(\"year_sold\", year(four_bedroom_houses.date))\n",
    "\n",
    "# 3. Group by the year and calculate the average price\n",
    "average_price_per_year = four_bedroom_houses.groupBy(\"year_sold\").agg(round(avg(\"price\"), 2).alias(\"avg_price\"))\n",
    "\n",
    "# 4. Format the avg_price to ensure two decimal places\n",
    "formatted_result = average_price_per_year.withColumn(\"avg_price\", format_number(\"avg_price\", 2))\n",
    "\n",
    "# 5. Show the result\n",
    "print(\"Average price for four-bedroom houses sold per year:\\n\")\n",
    "formatted_result.show()\n"
   ]
  },
  {
   "cell_type": "code",
   "execution_count": 6,
   "metadata": {
    "colab": {
     "base_uri": "https://localhost:8080/"
    },
    "id": "l8p_tUS8h8it",
    "outputId": "65806e5f-6262-41c0-ff65-5107464e5c4d"
   },
   "outputs": [
    {
     "name": "stdout",
     "output_type": "stream",
     "text": [
      "Average price of homes with 3 bedrooms and 3 bathrooms per year built:\n",
      "\n",
      "+----------+----------+\n",
      "|date_built| avg_price|\n",
      "+----------+----------+\n",
      "|      2015|288,770.30|\n",
      "|      2013|295,962.27|\n",
      "|      2014|290,852.27|\n",
      "|      2012|293,683.19|\n",
      "|      2016|290,555.07|\n",
      "|      2010|292,859.62|\n",
      "|      2011|291,117.47|\n",
      "|      2017|292,676.79|\n",
      "+----------+----------+\n",
      "\n"
     ]
    }
   ],
   "source": [
    "# 4. What is the average price of a home for each year the home was built,\n",
    "# that have 3 bedrooms and 3 bathrooms, rounded to two decimal places?\n",
    "# 1. Filter the DataFrame for homes with 3 bedrooms and 3 bathrooms\n",
    "three_bedroom_bath_homes = df.filter((df.bedrooms == 3) & (df.bathrooms == 3))\n",
    "\n",
    "# 2. Group by the year built and calculate the average price\n",
    "average_price_per_year_built = three_bedroom_bath_homes.groupBy(\"date_built\").agg(round(avg(\"price\"), 2).alias(\"avg_price\"))\n",
    "\n",
    "# 3. Format the avg_price to ensure two decimal places\n",
    "formatted_avg_price_per_year_built = average_price_per_year_built.withColumn(\"avg_price\", format_number(\"avg_price\", 2))\n",
    "\n",
    "# 4. Show the result\n",
    "print(\"Average price of homes with 3 bedrooms and 3 bathrooms per year built:\\n\")\n",
    "formatted_avg_price_per_year_built.show()\n"
   ]
  },
  {
   "cell_type": "code",
   "execution_count": 7,
   "metadata": {
    "colab": {
     "base_uri": "https://localhost:8080/"
    },
    "id": "Y-Eytz64liDU",
    "outputId": "17119810-56ad-40c3-de5e-c3db57e43bcc"
   },
   "outputs": [
    {
     "name": "stdout",
     "output_type": "stream",
     "text": [
      "Average price of homes with 3 bedrooms, 3 bathrooms, two floors, and >= 2,000 sqft per year built:\n",
      "\n",
      "+----------+----------+\n",
      "|date_built| avg_price|\n",
      "+----------+----------+\n",
      "|      2015|297,609.97|\n",
      "|      2013|303,676.79|\n",
      "|      2014|298,264.72|\n",
      "|      2012|307,539.97|\n",
      "|      2016|293,965.10|\n",
      "|      2010|285,010.22|\n",
      "|      2011|276,553.81|\n",
      "|      2017|280,317.58|\n",
      "+----------+----------+\n",
      "\n"
     ]
    }
   ],
   "source": [
    "# 5. What is the average price of a home for each year the home was built,\n",
    "# that have 3 bedrooms, 3 bathrooms, with two floors,\n",
    "# and are greater than or equal to 2,000 square feet, rounded to two decimal places?\n",
    "from pyspark.sql.functions import col\n",
    "\n",
    "# 1. Filter the DataFrame for homes with 3 bedrooms, 3 bathrooms, two floors, and >= 2,000 sqft\n",
    "filtered_homes = df.filter(\n",
    "    (df.bedrooms == 3) &\n",
    "    (df.bathrooms == 3) &\n",
    "    (df.floors == 2) &\n",
    "    (df.sqft_living >= 2000)\n",
    ")\n",
    "\n",
    "# 2. Group by the year built and calculate the average price\n",
    "average_price_per_year_built_filtered = filtered_homes.groupBy(\"date_built\").agg(round(avg(\"price\"), 2).alias(\"avg_price\"))\n",
    "\n",
    "# 3. Format the avg_price to ensure two decimal places\n",
    "formatted_avg_price_per_year_built_filtered = average_price_per_year_built_filtered.withColumn(\"avg_price\", format_number(\"avg_price\", 2))\n",
    "\n",
    "# 4. Show the result\n",
    "print(\"Average price of homes with 3 bedrooms, 3 bathrooms, two floors, and >= 2,000 sqft per year built:\\n\")\n",
    "formatted_avg_price_per_year_built_filtered.show()\n",
    "\n"
   ]
  },
  {
   "cell_type": "code",
   "execution_count": 8,
   "metadata": {
    "colab": {
     "base_uri": "https://localhost:8080/"
    },
    "id": "GUrfgOX1pCRd",
    "outputId": "17c25774-855e-4290-a4bd-a04902bdc13a"
   },
   "outputs": [
    {
     "name": "stdout",
     "output_type": "stream",
     "text": [
      "Average price of a home per 'view' rating, where average home price is >= $350,000:\n",
      "\n",
      "+----+----------+\n",
      "|view| avg_price|\n",
      "+----+----------+\n",
      "| 100| 1026669.5|\n",
      "|  99|1061201.42|\n",
      "|  98|1053739.33|\n",
      "|  97|1129040.15|\n",
      "|  96|1017815.92|\n",
      "|  95| 1054325.6|\n",
      "|  94| 1033536.2|\n",
      "|  93|1026006.06|\n",
      "|  92| 970402.55|\n",
      "|  91|1137372.73|\n",
      "|  90|1062654.16|\n",
      "|  89|1107839.15|\n",
      "|  88|1031719.35|\n",
      "|  87| 1072285.2|\n",
      "|  86|1070444.25|\n",
      "|  85|1056336.74|\n",
      "|  84|1117233.13|\n",
      "|  83|1033965.93|\n",
      "|  82| 1063498.0|\n",
      "|  81|1053472.79|\n",
      "+----+----------+\n",
      "only showing top 20 rows\n",
      "\n",
      "--- 0.778780460357666 seconds ---\n"
     ]
    }
   ],
   "source": [
    "# 6. What is the average price of a home per \"view\" rating, rounded to two decimal places,\n",
    "# having an average home price greater than or equal to $350,000? Order by descending view rating. \n",
    "# Although this is a small dataset, determine the run time for this query.\n",
    "\n",
    "from pyspark.sql.functions import avg, round, col\n",
    "import time\n",
    "\n",
    "# Start the timer\n",
    "start_time = time.time()\n",
    "\n",
    "# 1. Calculate the average price per \"view\" rating\n",
    "avg_price_per_view = df.groupBy(\"view\").agg(round(avg(\"price\"), 2).alias(\"avg_price\"))\n",
    "\n",
    "# 2. Filter to include only those with an average price >= $350,000\n",
    "filtered_avg_price_per_view = avg_price_per_view.filter(col(\"avg_price\") >= 350000)\n",
    "\n",
    "# 3. Order by descending view rating\n",
    "result = filtered_avg_price_per_view.orderBy(col(\"view\").desc())\n",
    "\n",
    "# 4. Show the result\n",
    "print(\"Average price of a home per 'view' rating, where average home price is >= $350,000:\\n\")\n",
    "result.show()\n",
    "\n",
    "# End the timer and print the runtime\n",
    "print(\"--- %s seconds ---\" % (time.time() - start_time))"
   ]
  },
  {
   "cell_type": "code",
   "execution_count": 9,
   "metadata": {
    "colab": {
     "base_uri": "https://localhost:8080/"
    },
    "id": "KAhk3ZD2tFy8",
    "outputId": "0a8f132d-40a8-4bd4-b5f2-2847e98427f5"
   },
   "outputs": [],
   "source": [
    "# 7. Cache the the temporary table home_sales.\n",
    "# 1. Cache the temporary table\n",
    "spark.catalog.cacheTable(\"home_sales\")\n",
    "\n"
   ]
  },
  {
   "cell_type": "code",
   "execution_count": 10,
   "metadata": {
    "colab": {
     "base_uri": "https://localhost:8080/"
    },
    "id": "4opVhbvxtL-i",
    "outputId": "38ec8487-795f-4550-b50c-fcc6f2b7c769"
   },
   "outputs": [
    {
     "name": "stdout",
     "output_type": "stream",
     "text": [
      "Is the home_sales table cached? True\n"
     ]
    }
   ],
   "source": [
    "# 8. Check if the table is cached.\n",
    "is_cached = spark.catalog.isCached(\"home_sales\")\n",
    "print(f\"Is the home_sales table cached? {is_cached}\")"
   ]
  },
  {
   "cell_type": "code",
   "execution_count": 11,
   "metadata": {
    "colab": {
     "base_uri": "https://localhost:8080/"
    },
    "id": "5GnL46lwTSEk",
    "outputId": "09a16c73-194d-4371-95d1-ee64fe83b91c"
   },
   "outputs": [
    {
     "name": "stdout",
     "output_type": "stream",
     "text": [
      "+----+----------+\n",
      "|view| avg_price|\n",
      "+----+----------+\n",
      "| 100| 1026669.5|\n",
      "|  99|1061201.42|\n",
      "|  98|1053739.33|\n",
      "|  97|1129040.15|\n",
      "|  96|1017815.92|\n",
      "|  95| 1054325.6|\n",
      "|  94| 1033536.2|\n",
      "|  93|1026006.06|\n",
      "|  92| 970402.55|\n",
      "|  91|1137372.73|\n",
      "|  90|1062654.16|\n",
      "|  89|1107839.15|\n",
      "|  88|1031719.35|\n",
      "|  87| 1072285.2|\n",
      "|  86|1070444.25|\n",
      "|  85|1056336.74|\n",
      "|  84|1117233.13|\n",
      "|  83|1033965.93|\n",
      "|  82| 1063498.0|\n",
      "|  81|1053472.79|\n",
      "+----+----------+\n",
      "only showing top 20 rows\n",
      "\n",
      "--- 0.7215297222137451 seconds ---\n"
     ]
    }
   ],
   "source": [
    "# 9. Using the cached data, run the last query above, that calculates \n",
    "# the average price of a home per \"view\" rating, rounded to two decimal places,\n",
    "# having an average home price greater than or equal to $350,000. \n",
    "# Determine the runtime and compare it to the uncached runtime.\n",
    "\n",
    "# Ensure the table is cached\n",
    "spark.catalog.cacheTable(\"home_sales\")\n",
    "\n",
    "# Start the timer for the cached query\n",
    "start_time = time.time()\n",
    "\n",
    "# Run the query on the cached data\n",
    "cached_result = spark.sql(\"\"\"\n",
    "    SELECT view, ROUND(AVG(price), 2) AS avg_price\n",
    "    FROM home_sales\n",
    "    GROUP BY view\n",
    "    HAVING avg_price >= 350000\n",
    "    ORDER BY view DESC\n",
    "\"\"\")\n",
    "\n",
    "# Show the result\n",
    "cached_result.show()\n",
    "\n",
    "# End the timer and print the runtime for the cached query\n",
    "print(\"--- %s seconds ---\" % (time.time() - start_time))\n"
   ]
  },
  {
   "cell_type": "code",
   "execution_count": 18,
   "metadata": {
    "id": "Qm12WN9isHBR"
   },
   "outputs": [],
   "source": [
    "# 10. Partition by the \"date_built\" field on the formatted parquet home sales data (switching to csv because of persistant errors with Hadoop dependencies)\n",
    "pandas_df = df.toPandas()\n",
    "\n"
   ]
  },
  {
   "cell_type": "code",
   "execution_count": 19,
   "metadata": {
    "id": "AZ7BgY61sRqY"
   },
   "outputs": [
    {
     "name": "stdout",
     "output_type": "stream",
     "text": [
      "Data has been written to ../data/home_sales_output.csv.\n"
     ]
    }
   ],
   "source": [
    "# 11. Read the formatted parquet data. I have encountered some issues with Hadoop dependencies, so I'm using pandas for this task.\n",
    "# Read the CSV file into a PySpark DataFrame\n",
    "output_path = \"../data/home_sales_output.csv\"  # Specify the path to save the CSV file\n",
    "pandas_df.to_csv(output_path, index=False)     # Write the DataFrame to a CSV file\n",
    "\n",
    "print(f\"Data has been written to {output_path}.\")\n"
   ]
  },
  {
   "cell_type": "code",
   "execution_count": 20,
   "metadata": {
    "id": "J6MJkHfvVcvh"
   },
   "outputs": [
    {
     "name": "stdout",
     "output_type": "stream",
     "text": [
      "                                     id        date  date_built   price  \\\n",
      "0  f8a53099-ba1c-47d6-9c31-7398aa8f6089  2022-04-08        2016  936923   \n",
      "1  7530a2d8-1ae3-4517-9f4a-befe060c4353  2021-06-13        2013  379628   \n",
      "2  43de979c-0bf0-4c9f-85ef-96dc27b258d5  2019-04-12        2014  417866   \n",
      "3  b672c137-b88c-48bf-9f18-d0a4ac62fb8b  2019-10-16        2016  239895   \n",
      "4  e0726d4d-d595-4074-8283-4139a54d0d63  2022-01-08        2017  424418   \n",
      "\n",
      "   bedrooms  bathrooms  sqft_living  sqft_lot  floors  waterfront  view  \n",
      "0         4          3         3167     11733       2           1    76  \n",
      "1         2          2         2235     14384       1           0    23  \n",
      "2         2          2         2127     10575       2           0     0  \n",
      "3         2          2         1631     11149       2           0     0  \n",
      "4         3          2         2249     13878       2           0     4  \n"
     ]
    }
   ],
   "source": [
    "# 12. Create a temporary table for the parquet data.\n",
    "import pandas as pd\n",
    "\n",
    "# Correct file path to read the CSV file\n",
    "df_csv = pd.read_csv(\"../data/home_sales_output.csv\")\n",
    "\n",
    "# Show the first few rows to confirm it was read correctly\n",
    "print(df_csv.head())"
   ]
  },
  {
   "cell_type": "code",
   "execution_count": 21,
   "metadata": {
    "colab": {
     "base_uri": "https://localhost:8080/"
    },
    "id": "G_Vhb52rU1Sn",
    "outputId": "a0b8d0c4-55ed-4c6c-bfd8-4c8c5334838e"
   },
   "outputs": [
    {
     "name": "stdout",
     "output_type": "stream",
     "text": [
      "       avg_price\n",
      "view            \n",
      "100   1026669.50\n",
      "99    1061201.42\n",
      "98    1053739.33\n",
      "97    1129040.15\n",
      "96    1017815.92\n",
      "...          ...\n",
      "4      399631.89\n",
      "3      398867.60\n",
      "2      397389.25\n",
      "1      401044.25\n",
      "0      403848.51\n",
      "\n",
      "[101 rows x 1 columns]\n",
      "--- 0.022623538970947266 seconds ---\n"
     ]
    }
   ],
   "source": [
    "# 13. Using the parquet DataFrame, run the last query above, that calculates \n",
    "# the average price of a home per \"view\" rating, rounded to two decimal places,\n",
    "# having an average home price greater than or equal to $350,000. \n",
    "# Determine the runtime and compare it to the cached runtime.\n",
    "\n",
    "# Start the timer\n",
    "start_time = time.time()\n",
    "\n",
    "# 1. Filter the DataFrame for homes with a price greater than or equal to $350,000\n",
    "filtered_df = df_csv[df_csv['price'] >= 350000]\n",
    "\n",
    "# 2. Group by 'view' rating and calculate the average price, rounded to 2 decimal places\n",
    "result_df = filtered_df.groupby('view').agg(avg_price=('price', 'mean')).round(2)\n",
    "\n",
    "# 3. Filter the result to include only groups with an average price >= $350,000\n",
    "final_result = result_df[result_df['avg_price'] >= 350000].sort_values(by='view', ascending=False)\n",
    "\n",
    "# End the timer\n",
    "end_time = time.time()\n",
    "\n",
    "# Show the result\n",
    "print(final_result)\n",
    "\n",
    "# Print the runtime\n",
    "print(\"--- %s seconds ---\" % (end_time - start_time))"
   ]
  },
  {
   "cell_type": "code",
   "execution_count": 22,
   "metadata": {
    "colab": {
     "base_uri": "https://localhost:8080/"
    },
    "id": "hjjYzQGjtbq8",
    "outputId": "830549fd-bb41-451b-9183-5ebf6e3e470b"
   },
   "outputs": [
    {
     "name": "stdout",
     "output_type": "stream",
     "text": [
      "DataFrame has been removed from memory.\n"
     ]
    }
   ],
   "source": [
    "# 14. Uncache the home_sales temporary table.\n",
    "# Remove the DataFrame from memory\n",
    "del df_csv\n",
    "\n",
    "# Force garbage collection\n",
    "import gc\n",
    "gc.collect()\n",
    "\n",
    "print(\"DataFrame has been removed from memory.\")"
   ]
  },
  {
   "cell_type": "code",
   "execution_count": 23,
   "metadata": {
    "colab": {
     "base_uri": "https://localhost:8080/"
    },
    "id": "Sy9NBvO7tlmm",
    "outputId": "be73e0e3-5e85-4794-aad9-025fb6fa84a7"
   },
   "outputs": [
    {
     "name": "stdout",
     "output_type": "stream",
     "text": [
      "Is 'home_sales' cached? True\n"
     ]
    }
   ],
   "source": [
    "# 15. Check if the home_sales is no longer cached\n",
    "is_cached = spark.catalog.isCached(\"home_sales\")\n",
    "print(f\"Is 'home_sales' cached? {is_cached}\")\n"
   ]
  },
  {
   "cell_type": "code",
   "execution_count": 25,
   "metadata": {},
   "outputs": [
    {
     "name": "stdout",
     "output_type": "stream",
     "text": [
      "Is 'home_sales' cached? False\n"
     ]
    }
   ],
   "source": [
    "# Uncache the table\n",
    "spark.catalog.uncacheTable(\"home_sales\")\n",
    "\n",
    "# Verify it's no longer cached\n",
    "is_cached = spark.catalog.isCached(\"home_sales\")\n",
    "print(f\"Is 'home_sales' cached? {is_cached}\")\n"
   ]
  },
  {
   "cell_type": "code",
   "execution_count": 26,
   "metadata": {},
   "outputs": [],
   "source": [
    "# Stop the SparkSession\n",
    "spark.stop()"
   ]
  },
  {
   "cell_type": "code",
   "execution_count": null,
   "metadata": {},
   "outputs": [],
   "source": []
  }
 ],
 "metadata": {
  "colab": {
   "collapsed_sections": [],
   "name": "Copy of Home_Sales_solution.ipynb",
   "provenance": []
  },
  "kernelspec": {
   "display_name": "Python 3 (ipykernel)",
   "language": "python",
   "name": "python3"
  },
  "language_info": {
   "codemirror_mode": {
    "name": "ipython",
    "version": 3
   },
   "file_extension": ".py",
   "mimetype": "text/x-python",
   "name": "python",
   "nbconvert_exporter": "python",
   "pygments_lexer": "ipython3",
   "version": "3.9.19"
  },
  "nteract": {
   "version": "0.28.0"
  }
 },
 "nbformat": 4,
 "nbformat_minor": 1
}
