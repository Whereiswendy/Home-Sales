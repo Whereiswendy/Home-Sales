{
  "cells": [
    {
      "cell_type": "code",
      "execution_count": 2,
      "metadata": {
        "colab": {
          "base_uri": "https://localhost:8080/"
        },
        "id": "a_KW73O2e3dw",
        "outputId": "ddb339b1-238f-43af-a2e0-a83edfa57bd7"
      },
      "outputs": [
        {
          "name": "stdout",
          "output_type": "stream",
          "text": [
            "\r0% [Working]\r            \rHit:1 https://cloud.r-project.org/bin/linux/ubuntu jammy-cran40/ InRelease\n",
            "\r0% [Connecting to archive.ubuntu.com (91.189.91.81)] [Connecting to security.ubuntu.com (185.125.190\r                                                                                                    \rHit:2 https://developer.download.nvidia.com/compute/cuda/repos/ubuntu2204/x86_64  InRelease\n",
            "\r0% [Waiting for headers] [Connecting to security.ubuntu.com (185.125.190.83)] [Connected to r2u.stat\r                                                                                                    \rHit:3 http://archive.ubuntu.com/ubuntu jammy InRelease\n",
            "Hit:4 http://archive.ubuntu.com/ubuntu jammy-updates InRelease\n",
            "Hit:5 http://security.ubuntu.com/ubuntu jammy-security InRelease\n",
            "Hit:6 http://archive.ubuntu.com/ubuntu jammy-backports InRelease\n",
            "Ign:7 https://r2u.stat.illinois.edu/ubuntu jammy InRelease\n",
            "Hit:8 https://r2u.stat.illinois.edu/ubuntu jammy Release\n",
            "Hit:9 https://ppa.launchpadcontent.net/deadsnakes/ppa/ubuntu jammy InRelease\n",
            "Hit:10 https://ppa.launchpadcontent.net/graphics-drivers/ppa/ubuntu jammy InRelease\n",
            "Hit:11 https://ppa.launchpadcontent.net/ubuntugis/ppa/ubuntu jammy InRelease\n",
            "Reading package lists... Done\n",
            "W: Skipping acquire of configured file 'main/source/Sources' as repository 'https://r2u.stat.illinois.edu/ubuntu jammy InRelease' does not seem to provide it (sources.list entry misspelt?)\n"
          ]
        }
      ],
      "source": [
        "import os\n",
        "\n",
        "# Set Spark version\n",
        "spark_version = 'spark-3.4.3'\n",
        "os.environ['SPARK_VERSION'] = spark_version\n",
        "\n",
        "# Install Spark and Java\n",
        "!apt-get update\n",
        "!apt-get install openjdk-11-jdk-headless -qq > /dev/null\n",
        "!wget -q https://downloads.apache.org/spark/spark-3.4.3/spark-3.4.3-bin-hadoop3.tgz\n",
        "!tar xf spark-3.4.3-bin-hadoop3.tgz\n",
        "!pip install -q findspark\n",
        "\n",
        "# Set Environment Variables\n",
        "os.environ[\"JAVA_HOME\"] = \"/usr/lib/jvm/java-11-openjdk-amd64\"\n",
        "os.environ[\"SPARK_HOME\"] = f\"/content/spark-3.4.3-bin-hadoop3\"\n",
        "\n",
        "# Start a SparkSession\n",
        "import findspark\n",
        "findspark.init()\n"
      ]
    },
    {
      "cell_type": "code",
      "execution_count": 3,
      "metadata": {
        "id": "2XbWNf1Te5fM"
      },
      "outputs": [],
      "source": [
        "# Import packages\n",
        "from pyspark.sql import SparkSession\n",
        "import time\n",
        "\n",
        "# Create a SparkSession\n",
        "spark = SparkSession.builder.appName(\"SparkSQL\").getOrCreate()"
      ]
    },
    {
      "cell_type": "code",
      "execution_count": 6,
      "metadata": {
        "id": "wOJqxG_RPSwp"
      },
      "outputs": [],
      "source": [
        "# 1. Read in the AWS S3 bucket into a DataFrame.\n",
        "from pyspark import SparkFiles\n",
        "url = \"https://2u-data-curriculum-team.s3.amazonaws.com/dataviz-classroom/v1.2/22-big-data/home_sales_revised.csv\"\n",
        "\n",
        "# Download the file to the Spark context\n",
        "spark.sparkContext.addFile(url)\n",
        "\n"
      ]
    },
    {
      "cell_type": "code",
      "execution_count": 7,
      "metadata": {
        "colab": {
          "base_uri": "https://localhost:8080/"
        },
        "id": "RoljcJ7WPpnm",
        "outputId": "92fd04e2-f76b-409b-d089-efca22a2e62c"
      },
      "outputs": [
        {
          "name": "stdout",
          "output_type": "stream",
          "text": [
            "+--------------------+----------+----------+------+--------+---------+-----------+--------+------+----------+----+\n",
            "|                  id|      date|date_built| price|bedrooms|bathrooms|sqft_living|sqft_lot|floors|waterfront|view|\n",
            "+--------------------+----------+----------+------+--------+---------+-----------+--------+------+----------+----+\n",
            "|f8a53099-ba1c-47d...|2022-04-08|      2016|936923|       4|        3|       3167|   11733|     2|         1|  76|\n",
            "|7530a2d8-1ae3-451...|2021-06-13|      2013|379628|       2|        2|       2235|   14384|     1|         0|  23|\n",
            "|43de979c-0bf0-4c9...|2019-04-12|      2014|417866|       2|        2|       2127|   10575|     2|         0|   0|\n",
            "|b672c137-b88c-48b...|2019-10-16|      2016|239895|       2|        2|       1631|   11149|     2|         0|   0|\n",
            "|e0726d4d-d595-407...|2022-01-08|      2017|424418|       3|        2|       2249|   13878|     2|         0|   4|\n",
            "+--------------------+----------+----------+------+--------+---------+-----------+--------+------+----------+----+\n",
            "only showing top 5 rows\n",
            "\n"
          ]
        }
      ],
      "source": [
        "# 2. Create a temporary view of the DataFrame.\n",
        "# Read the CSV file into a DataFrame\n",
        "df = spark.read.csv(SparkFiles.get(\"home_sales_revised.csv\"), header=True, inferSchema=True)\n",
        "\n",
        "# Show the first few rows to confirm the data was read correctly\n",
        "df.show(5)\n",
        "\n",
        "# 2. Create a temporary view of the DataFrame\n",
        "df.createOrReplaceTempView(\"home_sales\")\n"
      ]
    },
    {
      "cell_type": "code",
      "execution_count": 12,
      "metadata": {
        "colab": {
          "base_uri": "https://localhost:8080/"
        },
        "id": "L6fkwOeOmqvq",
        "outputId": "f465f74a-47dd-4c9a-d3e9-93ca6f769883"
      },
      "outputs": [
        {
          "name": "stdout",
          "output_type": "stream",
          "text": [
            "Average Price for Four-Bedroom Houses Sold Per Year (Rounded to Two Decimal Places):\n",
            "\n",
            "+---------+----------+\n",
            "|year_sold| avg_price|\n",
            "+---------+----------+\n",
            "|     2019|300,263.70|\n",
            "|     2020|298,353.78|\n",
            "|     2021|301,819.44|\n",
            "|     2022|296,363.88|\n",
            "+---------+----------+\n",
            "\n"
          ]
        }
      ],
      "source": [
        "# 3. What is the average price for a four bedroom house sold per year, rounded to two decimal places?\n",
        "\n",
        "# SQL query to calculate the average price for four-bedroom houses per year, formatted to two decimal places\n",
        "query = \"\"\"\n",
        "SELECT\n",
        "    YEAR(date) AS year_sold,\n",
        "    FORMAT_NUMBER(AVG(price), 2) AS avg_price\n",
        "FROM\n",
        "    home_sales\n",
        "WHERE\n",
        "    bedrooms = 4\n",
        "GROUP BY\n",
        "    year_sold\n",
        "ORDER BY\n",
        "    year_sold\n",
        "\"\"\"\n",
        "\n",
        "# Execute the query\n",
        "avg_price_per_year = spark.sql(query)\n",
        "\n",
        "# Print a header line\n",
        "print(\"Average Price for Four-Bedroom Houses Sold Per Year (Rounded to Two Decimal Places):\\n\")\n",
        "\n",
        "# Show the result\n",
        "avg_price_per_year.show()"
      ]
    },
    {
      "cell_type": "code",
      "execution_count": 13,
      "metadata": {
        "colab": {
          "base_uri": "https://localhost:8080/"
        },
        "id": "l8p_tUS8h8it",
        "outputId": "570e6d63-6824-439a-bd53-175b2654f2c7"
      },
      "outputs": [
        {
          "name": "stdout",
          "output_type": "stream",
          "text": [
            "Average Price of Homes with 3 Bedrooms and 3 Bathrooms Per Year Built (Rounded to Two Decimal Places):\n",
            "\n",
            "+----------+----------+\n",
            "|date_built| avg_price|\n",
            "+----------+----------+\n",
            "|      2010|292,859.62|\n",
            "|      2011|291,117.47|\n",
            "|      2012|293,683.19|\n",
            "|      2013|295,962.27|\n",
            "|      2014|290,852.27|\n",
            "|      2015|288,770.30|\n",
            "|      2016|290,555.07|\n",
            "|      2017|292,676.79|\n",
            "+----------+----------+\n",
            "\n"
          ]
        }
      ],
      "source": [
        "# 4. What is the average price of a home for each year the home was built,\n",
        "# that have 3 bedrooms and 3 bathrooms, rounded to two decimal places?\n",
        "\n",
        "# SQL query to calculate the average price for homes with 3 bedrooms and 3 bathrooms per year built\n",
        "query = \"\"\"\n",
        "SELECT\n",
        "    date_built,\n",
        "    FORMAT_NUMBER(AVG(price), 2) AS avg_price\n",
        "FROM\n",
        "    home_sales\n",
        "WHERE\n",
        "    bedrooms = 3 AND bathrooms = 3\n",
        "GROUP BY\n",
        "    date_built\n",
        "ORDER BY\n",
        "    date_built\n",
        "\"\"\"\n",
        "\n",
        "# Execute the query\n",
        "avg_price_per_year_built = spark.sql(query)\n",
        "\n",
        "# Print a header line\n",
        "print(\"Average Price of Homes with 3 Bedrooms and 3 Bathrooms Per Year Built (Rounded to Two Decimal Places):\\n\")\n",
        "\n",
        "# Show the result\n",
        "avg_price_per_year_built.show()\n"
      ]
    },
    {
      "cell_type": "code",
      "execution_count": 14,
      "metadata": {
        "colab": {
          "base_uri": "https://localhost:8080/"
        },
        "id": "Y-Eytz64liDU",
        "outputId": "42567f32-1a99-447a-988d-90dba9854d91"
      },
      "outputs": [
        {
          "name": "stdout",
          "output_type": "stream",
          "text": [
            "Average Price of Homes with 3 Bedrooms, 3 Bathrooms, 2 Floors, and ≥ 2,000 Sqft Per Year Built (Rounded to Two Decimal Places):\n",
            "\n",
            "+----------+----------+\n",
            "|date_built| avg_price|\n",
            "+----------+----------+\n",
            "|      2010|285,010.22|\n",
            "|      2011|276,553.81|\n",
            "|      2012|307,539.97|\n",
            "|      2013|303,676.79|\n",
            "|      2014|298,264.72|\n",
            "|      2015|297,609.97|\n",
            "|      2016|293,965.10|\n",
            "|      2017|280,317.58|\n",
            "+----------+----------+\n",
            "\n"
          ]
        }
      ],
      "source": [
        "# 5. What is the average price of a home for each year the home was built,\n",
        "# that have 3 bedrooms, 3 bathrooms, with two floors,\n",
        "# and are greater than or equal to 2,000 square feet, rounded to two decimal places?\n",
        "\n",
        "# SQL query to calculate the average price for homes with 3 bedrooms, 3 bathrooms, 2 floors,\n",
        "# and >= 2,000 square feet, per year built\n",
        "query = \"\"\"\n",
        "SELECT\n",
        "    date_built,\n",
        "    FORMAT_NUMBER(AVG(price), 2) AS avg_price\n",
        "FROM\n",
        "    home_sales\n",
        "WHERE\n",
        "    bedrooms = 3 AND\n",
        "    bathrooms = 3 AND\n",
        "    floors = 2 AND\n",
        "    sqft_living >= 2000\n",
        "GROUP BY\n",
        "    date_built\n",
        "ORDER BY\n",
        "    date_built\n",
        "\"\"\"\n",
        "\n",
        "# Execute the query\n",
        "avg_price_per_year_built = spark.sql(query)\n",
        "\n",
        "# Print a header line\n",
        "print(\"Average Price of Homes with 3 Bedrooms, 3 Bathrooms, 2 Floors, and ≥ 2,000 Sqft Per Year Built (Rounded to Two Decimal Places):\\n\")\n",
        "\n",
        "# Show the result\n",
        "avg_price_per_year_built.show()\n"
      ]
    },
    {
      "cell_type": "code",
      "execution_count": 15,
      "metadata": {
        "colab": {
          "base_uri": "https://localhost:8080/"
        },
        "id": "GUrfgOX1pCRd",
        "outputId": "54cea524-7f12-4d1f-8839-012a0e4e9794"
      },
      "outputs": [
        {
          "name": "stdout",
          "output_type": "stream",
          "text": [
            "+----+------------+\n",
            "|view|   avg_price|\n",
            "+----+------------+\n",
            "| 100|1,026,669.50|\n",
            "|  99|1,061,201.42|\n",
            "|  98|1,053,739.33|\n",
            "|  97|1,129,040.15|\n",
            "|  96|1,017,815.92|\n",
            "|  95|1,054,325.60|\n",
            "|  94|1,033,536.20|\n",
            "|  93|1,026,006.06|\n",
            "|  92|  970,402.55|\n",
            "|  91|1,137,372.73|\n",
            "|  90|1,062,654.16|\n",
            "|  89|1,107,839.15|\n",
            "|  88|1,031,719.35|\n",
            "|  87|1,072,285.20|\n",
            "|  86|1,070,444.25|\n",
            "|  85|1,056,336.74|\n",
            "|  84|1,117,233.13|\n",
            "|  83|1,033,965.93|\n",
            "|  82|1,063,498.00|\n",
            "|  81|1,053,472.79|\n",
            "+----+------------+\n",
            "only showing top 20 rows\n",
            "\n",
            "--- 1.514868974685669 seconds ---\n"
          ]
        }
      ],
      "source": [
        "# 6. What is the average price of a home per \"view\" rating, rounded to two decimal places,\n",
        "# having an average home price greater than or equal to $350,000? Order by descending view rating.\n",
        "# Although this is a small dataset, determine the run time for this query.\n",
        "\n",
        "# Start the timer\n",
        "start_time = time.time()\n",
        "\n",
        "# SQL query to calculate the average price per \"view\" rating\n",
        "query = \"\"\"\n",
        "SELECT\n",
        "    view,\n",
        "    FORMAT_NUMBER(AVG(price), 2) AS avg_price\n",
        "FROM\n",
        "    home_sales\n",
        "GROUP BY\n",
        "    view\n",
        "HAVING\n",
        "    AVG(price) >= 350000\n",
        "ORDER BY\n",
        "    view DESC\n",
        "\"\"\"\n",
        "\n",
        "# Execute the query\n",
        "avg_price_per_view = spark.sql(query)\n",
        "\n",
        "# Show the result\n",
        "avg_price_per_view.show()\n",
        "\n",
        "# Print the runtime\n",
        "print(\"--- %s seconds ---\" % (time.time() - start_time))"
      ]
    },
    {
      "cell_type": "code",
      "execution_count": 19,
      "metadata": {
        "colab": {
          "base_uri": "https://localhost:8080/"
        },
        "id": "KAhk3ZD2tFy8",
        "outputId": "b1dc585c-169c-469f-db2f-896c2f5ddc94"
      },
      "outputs": [
        {
          "data": {
            "text/plain": [
              "DataFrame[]"
            ]
          },
          "execution_count": 19,
          "metadata": {},
          "output_type": "execute_result"
        }
      ],
      "source": [
        "# 7. Cache the the temporary table home_sales.\n",
        "spark.sql(\"CACHE TABLE home_sales\")"
      ]
    },
    {
      "cell_type": "code",
      "execution_count": 20,
      "metadata": {
        "colab": {
          "base_uri": "https://localhost:8080/"
        },
        "id": "4opVhbvxtL-i",
        "outputId": "5f8e279b-7620-4281-89a7-9222fd3e17ba"
      },
      "outputs": [
        {
          "name": "stdout",
          "output_type": "stream",
          "text": [
            "Is 'home_sales' cached? True\n"
          ]
        }
      ],
      "source": [
        "# 8. Check if the table is cached.\n",
        "is_cached = spark.catalog.isCached('home_sales')\n",
        "\n",
        "# Print the result\n",
        "print(f\"Is 'home_sales' cached? {is_cached}\")"
      ]
    },
    {
      "cell_type": "code",
      "execution_count": 21,
      "metadata": {
        "colab": {
          "base_uri": "https://localhost:8080/"
        },
        "id": "5GnL46lwTSEk",
        "outputId": "163b3a1f-b36c-445a-b565-aae70c795d4d"
      },
      "outputs": [
        {
          "name": "stdout",
          "output_type": "stream",
          "text": [
            "+----+------------+\n",
            "|view|   avg_price|\n",
            "+----+------------+\n",
            "| 100|1,026,669.50|\n",
            "|  99|1,061,201.42|\n",
            "|  98|1,053,739.33|\n",
            "|  97|1,129,040.15|\n",
            "|  96|1,017,815.92|\n",
            "|  95|1,054,325.60|\n",
            "|  94|1,033,536.20|\n",
            "|  93|1,026,006.06|\n",
            "|  92|  970,402.55|\n",
            "|  91|1,137,372.73|\n",
            "|  90|1,062,654.16|\n",
            "|  89|1,107,839.15|\n",
            "|  88|1,031,719.35|\n",
            "|  87|1,072,285.20|\n",
            "|  86|1,070,444.25|\n",
            "|  85|1,056,336.74|\n",
            "|  84|1,117,233.13|\n",
            "|  83|1,033,965.93|\n",
            "|  82|1,063,498.00|\n",
            "|  81|1,053,472.79|\n",
            "+----+------------+\n",
            "only showing top 20 rows\n",
            "\n",
            "--- 1.1126539707183838 seconds ---\n"
          ]
        }
      ],
      "source": [
        "# 9. Using the cached data, run the last query above, that calculates\n",
        "# the average price of a home per \"view\" rating, rounded to two decimal places,\n",
        "# having an average home price greater than or equal to $350,000.\n",
        "# Determine the runtime and compare it to the uncached runtime.\n",
        "\n",
        "# Start the timer for the cached query\n",
        "start_time = time.time()\n",
        "\n",
        "# SQL query to calculate the average price per \"view\" rating on the cached data\n",
        "query = \"\"\"\n",
        "SELECT\n",
        "    view,\n",
        "    FORMAT_NUMBER(AVG(price), 2) AS avg_price\n",
        "FROM\n",
        "    home_sales\n",
        "GROUP BY\n",
        "    view\n",
        "HAVING\n",
        "    AVG(price) >= 350000\n",
        "ORDER BY\n",
        "    view DESC\n",
        "\"\"\"\n",
        "\n",
        "# Execute the query on cached data\n",
        "avg_price_per_view_cached = spark.sql(query)\n",
        "\n",
        "# Show the result\n",
        "avg_price_per_view_cached.show()\n",
        "\n",
        "# Measure and print the runtime\n",
        "print(\"--- %s seconds ---\" % (time.time() - start_time))"
      ]
    },
    {
      "cell_type": "code",
      "execution_count": 22,
      "metadata": {
        "colab": {
          "base_uri": "https://localhost:8080/"
        },
        "id": "Qm12WN9isHBR",
        "outputId": "7676e837-b1a1-4eba-d50e-e17fb78ec116"
      },
      "outputs": [
        {
          "name": "stdout",
          "output_type": "stream",
          "text": [
            "Data has been written to /content/home_sales_partitioned, partitioned by 'date_built'.\n"
          ]
        }
      ],
      "source": [
        "# 10. Partition by the \"date_built\" field on the formatted parquet home sales data\n",
        "\n",
        "# Specify the output path where you want to save the partitioned data\n",
        "output_path = \"/content/home_sales_partitioned\"\n",
        "\n",
        "# Write the DataFrame to Parquet format, partitioned by the \"date_built\" field\n",
        "df.write \\\n",
        "  .mode('overwrite') \\\n",
        "  .partitionBy(\"date_built\") \\\n",
        "  .parquet(output_path)\n",
        "\n",
        "# Print confirmation message\n",
        "print(f\"Data has been written to {output_path}, partitioned by 'date_built'.\")"
      ]
    },
    {
      "cell_type": "code",
      "execution_count": 23,
      "metadata": {
        "colab": {
          "base_uri": "https://localhost:8080/"
        },
        "id": "AZ7BgY61sRqY",
        "outputId": "272ce538-0eba-44db-d7aa-c5b9ac8d44ef"
      },
      "outputs": [
        {
          "name": "stdout",
          "output_type": "stream",
          "text": [
            "+--------------------+----------+------+--------+---------+-----------+--------+------+----------+----+----------+\n",
            "|                  id|      date| price|bedrooms|bathrooms|sqft_living|sqft_lot|floors|waterfront|view|date_built|\n",
            "+--------------------+----------+------+--------+---------+-----------+--------+------+----------+----+----------+\n",
            "|2ed8d509-7372-46d...|2021-08-06|258710|       3|        3|       1918|    9666|     1|         0|  25|      2015|\n",
            "|941bad30-eb49-4a7...|2020-05-09|229896|       3|        3|       2197|    8641|     1|         0|   3|      2015|\n",
            "|c797ca12-52cd-4b1...|2019-06-08|288650|       2|        3|       2100|   10419|     2|         0|   7|      2015|\n",
            "|0cfe57f3-28c2-472...|2019-10-04|308313|       3|        3|       1960|    9453|     2|         0|   2|      2015|\n",
            "|d715f295-2fbf-4e9...|2021-05-17|391574|       3|        2|       1635|    8040|     2|         0|  10|      2015|\n",
            "+--------------------+----------+------+--------+---------+-----------+--------+------+----------+----+----------+\n",
            "only showing top 5 rows\n",
            "\n"
          ]
        }
      ],
      "source": [
        "# 11. Read the parquet formatted data.\n",
        "\n",
        "# Specify the path where the Parquet files were saved\n",
        "parquet_path = \"/content/home_sales_partitioned\"\n",
        "\n",
        "# Read the Parquet files into a DataFrame\n",
        "df_parquet = spark.read.parquet(parquet_path)\n",
        "\n",
        "# Show the first few rows to verify that the data was read correctly\n",
        "df_parquet.show(5)"
      ]
    },
    {
      "cell_type": "code",
      "execution_count": 24,
      "metadata": {
        "colab": {
          "base_uri": "https://localhost:8080/"
        },
        "id": "J6MJkHfvVcvh",
        "outputId": "fd366349-ec44-4dc4-ecb2-9d9b79dbcc8d"
      },
      "outputs": [
        {
          "name": "stdout",
          "output_type": "stream",
          "text": [
            "Temporary table 'home_sales_parquet' has been created.\n"
          ]
        }
      ],
      "source": [
        "# 12. Create a temporary table for the parquet data.\n",
        "\n",
        "# Create a temporary view for the Parquet DataFrame\n",
        "df_parquet.createOrReplaceTempView(\"home_sales_parquet\")\n",
        "\n",
        "# Print confirmation\n",
        "print(\"Temporary table 'home_sales_parquet' has been created.\")"
      ]
    },
    {
      "cell_type": "code",
      "execution_count": 25,
      "metadata": {
        "colab": {
          "base_uri": "https://localhost:8080/"
        },
        "id": "G_Vhb52rU1Sn",
        "outputId": "aba635a3-f06b-4327-9424-de43ac5c9b81"
      },
      "outputs": [
        {
          "name": "stdout",
          "output_type": "stream",
          "text": [
            "+----+------------+\n",
            "|view|   avg_price|\n",
            "+----+------------+\n",
            "| 100|1,026,669.50|\n",
            "|  99|1,061,201.42|\n",
            "|  98|1,053,739.33|\n",
            "|  97|1,129,040.15|\n",
            "|  96|1,017,815.92|\n",
            "|  95|1,054,325.60|\n",
            "|  94|1,033,536.20|\n",
            "|  93|1,026,006.06|\n",
            "|  92|  970,402.55|\n",
            "|  91|1,137,372.73|\n",
            "|  90|1,062,654.16|\n",
            "|  89|1,107,839.15|\n",
            "|  88|1,031,719.35|\n",
            "|  87|1,072,285.20|\n",
            "|  86|1,070,444.25|\n",
            "|  85|1,056,336.74|\n",
            "|  84|1,117,233.13|\n",
            "|  83|1,033,965.93|\n",
            "|  82|1,063,498.00|\n",
            "|  81|1,053,472.79|\n",
            "+----+------------+\n",
            "only showing top 20 rows\n",
            "\n",
            "--- 0.8913478851318359 seconds ---\n"
          ]
        }
      ],
      "source": [
        "# 13. Using the parquet DataFrame, run the last query above, that calculates\n",
        "# the average price of a home per \"view\" rating, rounded to two decimal places,\n",
        "# having an average home price greater than or equal to $350,000.\n",
        "# Determine the runtime and compare it to the cached runtime.\n",
        "\n",
        "# Start the timer for the Parquet query\n",
        "start_time = time.time()\n",
        "\n",
        "# SQL query to calculate the average price per \"view\" rating on the Parquet data\n",
        "query = \"\"\"\n",
        "SELECT\n",
        "    view,\n",
        "    FORMAT_NUMBER(AVG(price), 2) AS avg_price\n",
        "FROM\n",
        "    home_sales_parquet\n",
        "GROUP BY\n",
        "    view\n",
        "HAVING\n",
        "    AVG(price) >= 350000\n",
        "ORDER BY\n",
        "    view DESC\n",
        "\"\"\"\n",
        "\n",
        "# Execute the query on the Parquet data\n",
        "avg_price_per_view_parquet = spark.sql(query)\n",
        "\n",
        "# Show the result\n",
        "avg_price_per_view_parquet.show()\n",
        "\n",
        "# Measure and print the runtime\n",
        "print(\"--- %s seconds ---\" % (time.time() - start_time))"
      ]
    },
    {
      "cell_type": "code",
      "execution_count": 26,
      "metadata": {
        "colab": {
          "base_uri": "https://localhost:8080/"
        },
        "id": "hjjYzQGjtbq8",
        "outputId": "4738c348-9f32-42e6-be2a-08c76bdd21a4"
      },
      "outputs": [
        {
          "name": "stdout",
          "output_type": "stream",
          "text": [
            "Temporary table 'home_sales' has been uncached.\n"
          ]
        }
      ],
      "source": [
        "# 14. Uncache the home_sales temporary table.\n",
        "\n",
        "# Uncache the 'home_sales' table\n",
        "spark.catalog.uncacheTable(\"home_sales\")\n",
        "\n",
        "# Print confirmation\n",
        "print(\"Temporary table 'home_sales' has been uncached.\")"
      ]
    },
    {
      "cell_type": "code",
      "execution_count": 27,
      "metadata": {
        "colab": {
          "base_uri": "https://localhost:8080/"
        },
        "id": "Sy9NBvO7tlmm",
        "outputId": "ee2f033b-8aba-4b3a-95d1-d48fe9f01f24"
      },
      "outputs": [
        {
          "name": "stdout",
          "output_type": "stream",
          "text": [
            "Is 'home_sales' cached? False\n"
          ]
        }
      ],
      "source": [
        "# 15. Check if the home_sales is no longer cached\n",
        "\n",
        "# Check if the 'home_sales' table is cached\n",
        "is_cached = spark.catalog.isCached(\"home_sales\")\n",
        "\n",
        "# Print the result\n",
        "print(f\"Is 'home_sales' cached? {is_cached}\")\n"
      ]
    }
  ],
  "metadata": {
    "colab": {
      "provenance": [],
      "toc_visible": true
    },
    "gpuClass": "standard",
    "kernelspec": {
      "display_name": "Python 3 (ipykernel)",
      "language": "python",
      "name": "python3"
    },
    "language_info": {
      "codemirror_mode": {
        "name": "ipython",
        "version": 3
      },
      "file_extension": ".py",
      "mimetype": "text/x-python",
      "name": "python",
      "nbconvert_exporter": "python",
      "pygments_lexer": "ipython3",
      "version": "3.10.4"
    },
    "nteract": {
      "version": "0.28.0"
    }
  },
  "nbformat": 4,
  "nbformat_minor": 0
}
